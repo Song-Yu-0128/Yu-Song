{
 "cells": [
  {
   "cell_type": "code",
   "execution_count": 23,
   "id": "2e8664f1-c7ea-4a18-83c1-e63855bf7310",
   "metadata": {},
   "outputs": [
    {
     "name": "stdout",
     "output_type": "stream",
     "text": [
      "Hello, Python! I am Yu Song.\n"
     ]
    }
   ],
   "source": [
    "#1\n",
    "def print_greeting():\n",
    "    message = \"Hello, Python! I am Yu Song.\"\n",
    "    print(message)\n",
    "\n",
    "print_greeting()"
   ]
  },
  {
   "cell_type": "code",
   "execution_count": 25,
   "id": "3c6a2bad-e0c8-49be-b597-0b9d0001aa90",
   "metadata": {},
   "outputs": [
    {
     "name": "stdout",
     "output_type": "stream",
     "text": [
      "Sum of a and b: 15\n",
      "Difference of a and b: 5\n",
      "Product of a and b: 50\n",
      "Quotient of a and b: 2.0\n"
     ]
    }
   ],
   "source": [
    "#2\n",
    "a = 10\n",
    "b = 5\n",
    "\n",
    "sum_ab = a + b\n",
    "diff_ab = a - b\n",
    "product_ab = a * b\n",
    "quotient_ab = a / b\n",
    "\n",
    "print(\"Sum of a and b:\", sum_ab)\n",
    "print(\"Difference of a and b:\", diff_ab)\n",
    "print(\"Product of a and b:\", product_ab)\n",
    "print(\"Quotient of a and b:\", quotient_ab)"
   ]
  },
  {
   "cell_type": "code",
   "execution_count": 27,
   "id": "2ee4df6e-0c2c-47a6-a7ba-5649cdc8f5c4",
   "metadata": {},
   "outputs": [
    {
     "name": "stdout",
     "output_type": "stream",
     "text": [
      "Hello, Yu Song!\n"
     ]
    }
   ],
   "source": [
    "#3\n",
    "name = \"Yu Song\"\n",
    "\n",
    "print(f\"Hello, {name}!\")"
   ]
  },
  {
   "cell_type": "code",
   "execution_count": 29,
   "id": "56c64a2c-d09a-4196-92d4-5fd9406c79a3",
   "metadata": {},
   "outputs": [
    {
     "name": "stdout",
     "output_type": "stream",
     "text": [
      "List of universities: ['ESADE', 'UPC', 'UB', 'UPF', 'UAB']\n",
      "First university: ESADE\n",
      "Last university: UAB\n"
     ]
    }
   ],
   "source": [
    "#4\n",
    "universities = [\"ESADE\", \"UPC\", \"UB\", \"UPF\", \"UAB\"]\n",
    "\n",
    "print(\"List of universities:\", universities)\n",
    "\n",
    "print(\"First university:\", universities[0])\n",
    "print(\"Last university:\", universities[-1])"
   ]
  },
  {
   "cell_type": "code",
   "execution_count": 31,
   "id": "ee70464b-204d-484c-a547-e6822df33b9f",
   "metadata": {},
   "outputs": [
    {
     "name": "stdout",
     "output_type": "stream",
     "text": [
      "name: Yu Song\n",
      "age: 24\n",
      "grade: A\n"
     ]
    }
   ],
   "source": [
    "#5\n",
    "student = {\n",
    "    \"name\": \"Yu Song\",\n",
    "    \"age\": 24,\n",
    "    \"grade\": \"A\"\n",
    "}\n",
    "\n",
    "for key, value in student.items():\n",
    "    print(f\"{key}: {value}\")"
   ]
  },
  {
   "cell_type": "code",
   "execution_count": 33,
   "id": "5fc8f1b1-3def-4745-bac1-93c1db8666fd",
   "metadata": {},
   "outputs": [
    {
     "name": "stdout",
     "output_type": "stream",
     "text": [
      "Coordinates: (5, 10)\n",
      "x-coordinate: 5\n",
      "y-coordinate: 10\n"
     ]
    }
   ],
   "source": [
    "#6\n",
    "coordinates = (5, 10)\n",
    "\n",
    "print(\"Coordinates:\", coordinates)\n",
    "\n",
    "print(\"x-coordinate:\", coordinates[0])\n",
    "print(\"y-coordinate:\", coordinates[1])"
   ]
  },
  {
   "cell_type": "code",
   "execution_count": 35,
   "id": "1c40cf48-74ee-49d3-a8bf-32f89a9bcac3",
   "metadata": {},
   "outputs": [
    {
     "name": "stdout",
     "output_type": "stream",
     "text": [
      "Set after adding colors: {'yellow', 'red', 'blue', 'green'}\n",
      "Set after removing 'green': {'yellow', 'red', 'blue'}\n",
      "Merged set of colors and light_colors: {'red', 'yellow', 'blue', 'white', 'pink'}\n"
     ]
    }
   ],
   "source": [
    "#7\n",
    "colors = {\"red\", \"green\", \"blue\"}\n",
    "\n",
    "colors.add(\"yellow\")\n",
    "\n",
    "colors.add(\"red\") \n",
    "\n",
    "print(\"Set after adding colors:\", colors)\n",
    "\n",
    "colors.remove(\"green\")\n",
    "\n",
    "print(\"Set after removing 'green':\", colors)\n",
    "\n",
    "light_colors = {\"white\", \"pink\"}\n",
    "\n",
    "merged_colors = colors.union(light_colors)\n",
    "\n",
    "print(\"Merged set of colors and light_colors:\", merged_colors)"
   ]
  },
  {
   "cell_type": "code",
   "execution_count": 37,
   "id": "5bb182de-7ec9-4e35-a6e4-1d8feb4b2e45",
   "metadata": {},
   "outputs": [
    {
     "name": "stdin",
     "output_type": "stream",
     "text": [
      "Enter a number:  10\n"
     ]
    },
    {
     "name": "stdout",
     "output_type": "stream",
     "text": [
      "The number 10.0 is positive.\n"
     ]
    }
   ],
   "source": [
    "#8\n",
    "number = float(input(\"Enter a number: \"))\n",
    "\n",
    "if number > 0:\n",
    "    print(f\"The number {number} is positive.\")\n",
    "elif number < 0:\n",
    "    print(f\"The number {number} is negative.\")\n",
    "else:\n",
    "    print(f\"The number is zero.\")"
   ]
  },
  {
   "cell_type": "code",
   "execution_count": 39,
   "id": "bf9546cf-643b-4eee-99f7-ac39b999aa14",
   "metadata": {},
   "outputs": [
    {
     "name": "stdout",
     "output_type": "stream",
     "text": [
      "1\n",
      "2\n",
      "3\n",
      "4\n",
      "5\n"
     ]
    }
   ],
   "source": [
    "#9\n",
    "numbers = [1, 2, 3, 4, 5]\n",
    "\n",
    "for number in numbers:\n",
    "    print(number)"
   ]
  },
  {
   "cell_type": "code",
   "execution_count": 41,
   "id": "3bcd25c6-9a54-4529-bc44-f558c99022e5",
   "metadata": {},
   "outputs": [
    {
     "name": "stdout",
     "output_type": "stream",
     "text": [
      "1\n",
      "2\n",
      "3\n",
      "4\n",
      "5\n"
     ]
    }
   ],
   "source": [
    "#10\n",
    "number = 1\n",
    "\n",
    "while number <= 5:\n",
    "    print(number)\n",
    "    number += 1"
   ]
  },
  {
   "cell_type": "code",
   "execution_count": 43,
   "id": "16c29438-4eec-47c6-b4ff-9a40b50dfc03",
   "metadata": {},
   "outputs": [
    {
     "name": "stdin",
     "output_type": "stream",
     "text": [
      "Enter your grade (A, B, C, D, F):  a\n"
     ]
    },
    {
     "name": "stdout",
     "output_type": "stream",
     "text": [
      "Excellent!\n"
     ]
    }
   ],
   "source": [
    "#11\n",
    "grade = input(\"Enter your grade (A, B, C, D, F): \").upper() \n",
    "\n",
    "match grade:\n",
    "    case \"A\":\n",
    "        print(\"Excellent!\")\n",
    "    case \"B\":\n",
    "        print(\"Good job!\")\n",
    "    case \"C\":\n",
    "        print(\"Fair.\")\n",
    "    case \"D\":\n",
    "        print(\"Needs improvement.\")\n",
    "    case \"F\":\n",
    "        print(\"Failing.\")\n",
    "    case _:\n",
    "        print(\"Invalid input. Please enter a valid grade (A, B, C, D, or F).\")"
   ]
  },
  {
   "cell_type": "code",
   "execution_count": 45,
   "id": "0ec8c1ab-2dfc-4d8f-909b-b27e9d51d22a",
   "metadata": {},
   "outputs": [
    {
     "name": "stdout",
     "output_type": "stream",
     "text": [
      "Hello, Yu Song!\n"
     ]
    }
   ],
   "source": [
    "#12\n",
    "def greet(name):\n",
    "    print(f\"Hello, {name}!\")\n",
    "\n",
    "greet(\"Yu Song\") "
   ]
  },
  {
   "cell_type": "code",
   "execution_count": 49,
   "id": "f13ce40e-5a0b-43bc-85a2-728e04892750",
   "metadata": {},
   "outputs": [
    {
     "name": "stdout",
     "output_type": "stream",
     "text": [
      "Square of 1: 1\n",
      "Square of 5: 25\n",
      "Square of 10: 100\n"
     ]
    }
   ],
   "source": [
    "#13\n",
    "def square(number):\n",
    "    return number * number\n",
    "\n",
    "print(\"Square of 1:\", square(1))\n",
    "print(\"Square of 5:\", square(5))\n",
    "print(\"Square of 10:\", square(10))"
   ]
  },
  {
   "cell_type": "code",
   "execution_count": 51,
   "id": "cf50fbd9-64f8-4da8-915b-9e1b8aa21078",
   "metadata": {},
   "outputs": [
    {
     "name": "stdout",
     "output_type": "stream",
     "text": [
      "Multiply 5 and 3: 15\n",
      "Multiply 7 (default b=1): 7\n"
     ]
    }
   ],
   "source": [
    "#14\n",
    "def multiply(a, b=1):\n",
    "    return a * b\n",
    "\n",
    "print(\"Multiply 5 and 3:\", multiply(5, 3))\n",
    "\n",
    "print(\"Multiply 7 (default b=1):\", multiply(7))"
   ]
  },
  {
   "cell_type": "code",
   "execution_count": 53,
   "id": "93e5a08e-05f3-4ac8-ba34-689d4d3e2668",
   "metadata": {},
   "outputs": [
    {
     "name": "stdout",
     "output_type": "stream",
     "text": [
      "List of squares: [1, 4, 9, 16, 25, 36, 49, 64, 81, 100]\n"
     ]
    }
   ],
   "source": [
    "#15\n",
    "numbers = list(range(1, 11))\n",
    "\n",
    "squares = [number ** 2 for number in numbers]\n",
    "\n",
    "print(\"List of squares:\", squares)"
   ]
  },
  {
   "cell_type": "code",
   "execution_count": 55,
   "id": "64c9f681-303d-439e-b5d0-0b79207cb95a",
   "metadata": {},
   "outputs": [
    {
     "name": "stdout",
     "output_type": "stream",
     "text": [
      "Alex's average grade: 84.33\n",
      "Sofia's average grade: 88.00\n",
      "Linda's average grade: 82.00\n",
      "Yu Song's average grade: 91.33\n"
     ]
    }
   ],
   "source": [
    "#16\n",
    "students_grades = {\n",
    "    \"Alex\": [85, 90, 78],\n",
    "    \"Sofia\": [92, 88, 84],\n",
    "    \"Linda\": [79, 85, 82],\n",
    "    \"Yu Song\": [91, 89, 94]\n",
    "}\n",
    "\n",
    "def print_average_grades(students):\n",
    "    for student, grades in students.items():\n",
    "        average = sum(grades) / len(grades) \n",
    "        print(f\"{student}'s average grade: {average:.2f}\")\n",
    "\n",
    "print_average_grades(students_grades)"
   ]
  },
  {
   "cell_type": "code",
   "execution_count": 57,
   "id": "b744916b-b9f1-4049-9af1-70b6400dbccf",
   "metadata": {},
   "outputs": [
    {
     "name": "stdin",
     "output_type": "stream",
     "text": [
      "Enter the first number:  2\n",
      "Enter the second number:  3\n",
      "Enter an operator (+, -, *, /):  +\n"
     ]
    },
    {
     "name": "stdout",
     "output_type": "stream",
     "text": [
      "The result is: 5.0\n"
     ]
    }
   ],
   "source": [
    "#17\n",
    "def calculate(num1, num2, operator):\n",
    "    if operator == '+':\n",
    "        return num1 + num2\n",
    "    elif operator == '-':\n",
    "        return num1 - num2\n",
    "    elif operator == '*':\n",
    "        return num1 * num2\n",
    "    elif operator == '/':\n",
    "        if num2 != 0:\n",
    "            return num1 / num2\n",
    "        else:\n",
    "            return \"Error: Division by zero is not allowed.\"\n",
    "    else:\n",
    "        return \"Error: Invalid operator.\"\n",
    "\n",
    "num1 = float(input(\"Enter the first number: \"))\n",
    "num2 = float(input(\"Enter the second number: \"))\n",
    "operator = input(\"Enter an operator (+, -, *, /): \")\n",
    "\n",
    "result = calculate(num1, num2, operator)\n",
    "print(f\"The result is: {result}\")"
   ]
  }
 ],
 "metadata": {
  "kernelspec": {
   "display_name": "Python 3 (ipykernel)",
   "language": "python",
   "name": "python3"
  },
  "language_info": {
   "codemirror_mode": {
    "name": "ipython",
    "version": 3
   },
   "file_extension": ".py",
   "mimetype": "text/x-python",
   "name": "python",
   "nbconvert_exporter": "python",
   "pygments_lexer": "ipython3",
   "version": "3.12.4"
  }
 },
 "nbformat": 4,
 "nbformat_minor": 5
}
