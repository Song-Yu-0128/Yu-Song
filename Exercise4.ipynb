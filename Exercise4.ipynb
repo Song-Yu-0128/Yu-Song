{
 "cells": [
  {
   "cell_type": "code",
   "execution_count": 1,
   "metadata": {},
   "outputs": [
    {
     "name": "stdout",
     "output_type": "stream",
     "text": [
      "22ºC is equal to 71.60ºF\n",
      "46ºC is equal to 114.80ºF\n",
      "51ºC is equal to 123.80ºF\n",
      "76ºC is equal to 168.80ºF\n"
     ]
    }
   ],
   "source": [
    "# Exercise 4: Temperature Converter\n",
    "\n",
    "def celsius_to_fahrenheit(celsius):\n",
    "    fahrenheit = (celsius * 9/5) + 32\n",
    "    return fahrenheit\n",
    "# Temperatures in Celsius to be converted\n",
    "celsius_temperatures = [22, 46, 51, 76]\n",
    "\n",
    "# Convert each temperature and print the result\n",
    "for celsius in celsius_temperatures:\n",
    "    fahrenheit = celsius_to_fahrenheit(celsius)\n",
    "    print(f\"{celsius}ºC is equal to {fahrenheit:.2f}ºF\")"
   ]
  }
 ],
 "metadata": {
  "kernelspec": {
   "display_name": "base",
   "language": "python",
   "name": "python3"
  },
  "language_info": {
   "codemirror_mode": {
    "name": "ipython",
    "version": 3
   },
   "file_extension": ".py",
   "mimetype": "text/x-python",
   "name": "python",
   "nbconvert_exporter": "python",
   "pygments_lexer": "ipython3",
   "version": "3.12.4"
  }
 },
 "nbformat": 4,
 "nbformat_minor": 2
}
