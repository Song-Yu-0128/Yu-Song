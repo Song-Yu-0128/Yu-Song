{
 "cells": [
  {
   "cell_type": "code",
   "execution_count": null,
   "metadata": {},
   "outputs": [],
   "source": [
    "# Exercise-2-Basic-Data-Filtering \n",
    "\n",
    "mixed_list = [1, \"apple\", 3.14, 42, \"banana\", 7.5, 100, \"grape\"]\n",
    "integers_list = [item for item in mixed_list if isinstance(item, int)]\n",
    "print(integers_list)\n"
   ]
  }
 ],
 "metadata": {
  "language_info": {
   "name": "python"
  }
 },
 "nbformat": 4,
 "nbformat_minor": 2
}
