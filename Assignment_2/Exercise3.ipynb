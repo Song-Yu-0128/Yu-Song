{
 "cells": [
  {
   "cell_type": "code",
   "execution_count": 1,
   "metadata": {},
   "outputs": [
    {
     "name": "stdout",
     "output_type": "stream",
     "text": [
      "Task \"Buy groceries\" added.\n",
      "Task \"Complete Python project\" added.\n",
      "Todo List:\n",
      "1. Buy groceries\n",
      "2. Complete Python project\n"
     ]
    }
   ],
   "source": [
    "# Exercise 3: Simple To-Do List\n",
    "# Initialize empty todo_list\n",
    "todo_list = []\n",
    "\n",
    "# Function to add a task to the todo_list\n",
    "def add_task(task):\n",
    "    todo_list.append(task)\n",
    "    print(f'Task \"{task}\" added.')\n",
    "\n",
    "# Function to display all tasks in the todo_list\n",
    "def show_tasks():\n",
    "    if todo_list:\n",
    "        print(\"Todo List:\")\n",
    "        for i, task in enumerate(todo_list, 1):\n",
    "            print(f\"{i}. {task}\")\n",
    "    else:\n",
    "        print(\"No tasks in the list.\")\n",
    "\n",
    "# Example usage:\n",
    "add_task(\"Buy groceries\")\n",
    "add_task(\"Complete Python project\")\n",
    "show_tasks()\n"
   ]
  }
 ],
 "metadata": {
  "kernelspec": {
   "display_name": "base",
   "language": "python",
   "name": "python3"
  },
  "language_info": {
   "codemirror_mode": {
    "name": "ipython",
    "version": 3
   },
   "file_extension": ".py",
   "mimetype": "text/x-python",
   "name": "python",
   "nbconvert_exporter": "python",
   "pygments_lexer": "ipython3",
   "version": "3.12.4"
  }
 },
 "nbformat": 4,
 "nbformat_minor": 2
}
